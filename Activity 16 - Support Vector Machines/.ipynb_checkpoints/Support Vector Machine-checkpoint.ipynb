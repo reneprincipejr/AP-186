{
 "cells": [
  {
   "cell_type": "code",
   "execution_count": 1,
   "metadata": {},
   "outputs": [],
   "source": [
    "import numpy as np\n",
    "import cvxopt\n",
    "from sklearn.datasets.samples_generator import make_blobs\n",
    "from sklearn.model_selection import train_test_split\n",
    "from matplotlib import pyplot as plt\n",
    "from sklearn.svm import LinearSVC\n",
    "from sklearn.metrics import confusion_matrix\n"
   ]
  },
  {
   "cell_type": "code",
   "execution_count": 9,
   "metadata": {},
   "outputs": [],
   "source": [
    "n_samples = 250\n",
    "K = np.zeros((n_samples, n_samples))\n"
   ]
  },
  {
   "cell_type": "code",
   "execution_count": 10,
   "metadata": {},
   "outputs": [
    {
     "name": "stdout",
     "output_type": "stream",
     "text": [
      "     pcost       dcost       gap    pres   dres\n",
      " 0: -2.5000e+02 -5.0000e+02  2e+02  0e+00  2e+00\n",
      " 1: -6.2125e+02 -6.2746e+02  6e+00  9e-16  1e+00\n",
      " 2: -6.2734e+04 -6.2740e+04  6e+00  4e-13  1e+00\n",
      " 3: -6.2119e+08 -6.2119e+08  6e+02  7e-09  1e+00\n",
      " 4: -6.1498e+14 -6.1498e+14  6e+06  0e+00  1e+00\n",
      " 5: -6.0883e+22 -6.0883e+22  6e+12  7e+04  1e+00\n",
      " 6: -6.0274e+32 -6.0274e+32  6e+20  1e+16  1e+00\n",
      " 7: -5.9671e+44 -5.9671e+44  6e+30  5e+27  1e+00\n",
      " 8: -5.8885e+58 -5.8885e+58  6e+42  1e+42  1e+00\n",
      " 9: -5.8885e+90 -8.4405e+90  3e+90  6e+73  1e+00\n",
      "10: -2.3406e+91 -2.3508e+91  1e+89  0e+00  1e+00\n",
      "11: -5.3932e+93 -5.3934e+93  2e+89  2e+77  1e+00\n",
      "12: -1.2321e+98 -1.2321e+98  5e+91  5e+81  1e+00\n",
      "13: -2.8144e+104 -2.8144e+104  1e+96  5e+86  1e+00\n",
      "14: -6.4289e+112 -6.4289e+112  3e+102  2e+96  1e+00\n",
      "15: -1.4685e+123 -1.4685e+123  6e+110 6e+106  1e+00\n",
      "16: -3.3508e+135 -3.3508e+135  1e+121 3e+119  1e+00\n",
      "17: -7.1835e+149 -7.1835e+149  2e+134 4e+133  1e+00\n",
      "18: -1.8236e+165 -1.8236e+165  2e+149  0e+00  1e+00\n",
      "19: -1.0838e+180 -1.0838e+180  1e+164    inf  1e+00\n",
      "20: -2.7349e+193 -2.7349e+193  3e+177    inf  1e+00\n",
      "21: -8.9568e+204 -8.9568e+204  8e+188    inf  1e+00\n",
      "22: -2.4215e+215 -2.4215e+215  2e+199    inf  1e+00\n",
      "23: -2.6167e+222 -2.6167e+222  2e+206    inf  1e+00\n",
      "24: -2.7914e+237 -2.7914e+237  2e+221    inf  1e+00\n",
      "25: -1.9153e+250 -1.9153e+250  2e+234    inf  1e+00\n",
      "26: -1.1502e+261 -1.1502e+261  9e+244    inf  1e+00\n",
      "27: -2.1191e+270 -2.1191e+270  2e+254    inf  1e+00\n",
      "28: -1.2985e+277 -1.2985e+277  1e+261    inf  1e+00\n",
      "29: -9.2062e+291 -9.2062e+291  7e+275    inf  1e+00\n"
     ]
    },
    {
     "ename": "ValueError",
     "evalue": "domain error",
     "output_type": "error",
     "traceback": [
      "\u001b[1;31m---------------------------------------------------------------------------\u001b[0m",
      "\u001b[1;31mValueError\u001b[0m                                Traceback (most recent call last)",
      "\u001b[1;32m<ipython-input-10-4da3aec95f0d>\u001b[0m in \u001b[0;36m<module>\u001b[1;34m\u001b[0m\n\u001b[1;32m----> 1\u001b[1;33m \u001b[1;32mclass\u001b[0m \u001b[0mSVM\u001b[0m\u001b[1;33m:\u001b[0m\u001b[1;33m\u001b[0m\u001b[1;33m\u001b[0m\u001b[0m\n\u001b[0m\u001b[0;32m      2\u001b[0m     \u001b[1;32mdef\u001b[0m \u001b[0mfit\u001b[0m\u001b[1;33m(\u001b[0m\u001b[0mself\u001b[0m\u001b[1;33m,\u001b[0m \u001b[0mX\u001b[0m\u001b[1;33m,\u001b[0m \u001b[0my\u001b[0m\u001b[1;33m)\u001b[0m\u001b[1;33m:\u001b[0m\u001b[1;33m\u001b[0m\u001b[1;33m\u001b[0m\u001b[0m\n\u001b[0;32m      3\u001b[0m         \u001b[0mn_samples\u001b[0m\u001b[1;33m,\u001b[0m \u001b[0mn_features\u001b[0m \u001b[1;33m=\u001b[0m \u001b[0mX\u001b[0m\u001b[1;33m.\u001b[0m\u001b[0mshape\u001b[0m\u001b[1;33m\u001b[0m\u001b[1;33m\u001b[0m\u001b[0m\n\u001b[0;32m      4\u001b[0m \u001b[1;31m# P = X^T X\u001b[0m\u001b[1;33m\u001b[0m\u001b[1;33m\u001b[0m\u001b[1;33m\u001b[0m\u001b[0m\n\u001b[0;32m      5\u001b[0m         \u001b[0mK\u001b[0m \u001b[1;33m=\u001b[0m \u001b[0mnp\u001b[0m\u001b[1;33m.\u001b[0m\u001b[0mzeros\u001b[0m\u001b[1;33m(\u001b[0m\u001b[1;33m(\u001b[0m\u001b[0mn_samples\u001b[0m\u001b[1;33m,\u001b[0m \u001b[0mn_samples\u001b[0m\u001b[1;33m)\u001b[0m\u001b[1;33m)\u001b[0m\u001b[1;33m\u001b[0m\u001b[1;33m\u001b[0m\u001b[0m\n",
      "\u001b[1;32m<ipython-input-10-4da3aec95f0d>\u001b[0m in \u001b[0;36mSVM\u001b[1;34m()\u001b[0m\n\u001b[0;32m     19\u001b[0m \u001b[1;31m# 0 (1xN)\u001b[0m\u001b[1;33m\u001b[0m\u001b[1;33m\u001b[0m\u001b[1;33m\u001b[0m\u001b[0m\n\u001b[0;32m     20\u001b[0m     \u001b[0mh\u001b[0m \u001b[1;33m=\u001b[0m \u001b[0mcvxopt\u001b[0m\u001b[1;33m.\u001b[0m\u001b[0mmatrix\u001b[0m\u001b[1;33m(\u001b[0m\u001b[0mnp\u001b[0m\u001b[1;33m.\u001b[0m\u001b[0mzeros\u001b[0m\u001b[1;33m(\u001b[0m\u001b[0mn_samples\u001b[0m\u001b[1;33m)\u001b[0m\u001b[1;33m)\u001b[0m\u001b[1;33m\u001b[0m\u001b[1;33m\u001b[0m\u001b[0m\n\u001b[1;32m---> 21\u001b[1;33m     \u001b[0msolution\u001b[0m \u001b[1;33m=\u001b[0m \u001b[0mcvxopt\u001b[0m\u001b[1;33m.\u001b[0m\u001b[0msolvers\u001b[0m\u001b[1;33m.\u001b[0m\u001b[0mqp\u001b[0m\u001b[1;33m(\u001b[0m\u001b[0mP\u001b[0m\u001b[1;33m,\u001b[0m \u001b[0mq\u001b[0m\u001b[1;33m,\u001b[0m \u001b[0mG\u001b[0m\u001b[1;33m,\u001b[0m \u001b[0mh\u001b[0m\u001b[1;33m,\u001b[0m \u001b[0mA\u001b[0m\u001b[1;33m,\u001b[0m \u001b[0mb\u001b[0m\u001b[1;33m)\u001b[0m\u001b[1;33m\u001b[0m\u001b[1;33m\u001b[0m\u001b[0m\n\u001b[0m\u001b[0;32m     22\u001b[0m \u001b[1;31m# Lagrange multipliers\u001b[0m\u001b[1;33m\u001b[0m\u001b[1;33m\u001b[0m\u001b[1;33m\u001b[0m\u001b[0m\n\u001b[0;32m     23\u001b[0m     \u001b[0ma\u001b[0m \u001b[1;33m=\u001b[0m \u001b[0mnp\u001b[0m\u001b[1;33m.\u001b[0m\u001b[0mravel\u001b[0m\u001b[1;33m(\u001b[0m\u001b[0msolution\u001b[0m\u001b[1;33m[\u001b[0m\u001b[1;34m'x'\u001b[0m\u001b[1;33m]\u001b[0m\u001b[1;33m)\u001b[0m\u001b[1;33m\u001b[0m\u001b[1;33m\u001b[0m\u001b[0m\n",
      "\u001b[1;32m~\\AppData\\Roaming\\Python\\Python37\\site-packages\\cvxopt\\coneprog.py\u001b[0m in \u001b[0;36mqp\u001b[1;34m(P, q, G, h, A, b, solver, kktsolver, initvals, **kwargs)\u001b[0m\n\u001b[0;32m   4483\u001b[0m             'residual as dual infeasibility certificate': dinfres}\n\u001b[0;32m   4484\u001b[0m \u001b[1;33m\u001b[0m\u001b[0m\n\u001b[1;32m-> 4485\u001b[1;33m     \u001b[1;32mreturn\u001b[0m \u001b[0mconeqp\u001b[0m\u001b[1;33m(\u001b[0m\u001b[0mP\u001b[0m\u001b[1;33m,\u001b[0m \u001b[0mq\u001b[0m\u001b[1;33m,\u001b[0m \u001b[0mG\u001b[0m\u001b[1;33m,\u001b[0m \u001b[0mh\u001b[0m\u001b[1;33m,\u001b[0m \u001b[1;32mNone\u001b[0m\u001b[1;33m,\u001b[0m \u001b[0mA\u001b[0m\u001b[1;33m,\u001b[0m  \u001b[0mb\u001b[0m\u001b[1;33m,\u001b[0m \u001b[0minitvals\u001b[0m\u001b[1;33m,\u001b[0m \u001b[0mkktsolver\u001b[0m \u001b[1;33m=\u001b[0m \u001b[0mkktsolver\u001b[0m\u001b[1;33m,\u001b[0m \u001b[0moptions\u001b[0m \u001b[1;33m=\u001b[0m \u001b[0moptions\u001b[0m\u001b[1;33m)\u001b[0m\u001b[1;33m\u001b[0m\u001b[1;33m\u001b[0m\u001b[0m\n\u001b[0m",
      "\u001b[1;32m~\\AppData\\Roaming\\Python\\Python37\\site-packages\\cvxopt\\coneprog.py\u001b[0m in \u001b[0;36mconeqp\u001b[1;34m(P, q, G, h, dims, A, b, initvals, kktsolver, xnewcopy, xdot, xaxpy, xscal, ynewcopy, ydot, yaxpy, yscal, **kwargs)\u001b[0m\n\u001b[0;32m   2517\u001b[0m \u001b[1;33m\u001b[0m\u001b[0m\n\u001b[0;32m   2518\u001b[0m         \u001b[1;31m# Update lambda and scaling.\u001b[0m\u001b[1;33m\u001b[0m\u001b[1;33m\u001b[0m\u001b[1;33m\u001b[0m\u001b[0m\n\u001b[1;32m-> 2519\u001b[1;33m         \u001b[0mmisc\u001b[0m\u001b[1;33m.\u001b[0m\u001b[0mupdate_scaling\u001b[0m\u001b[1;33m(\u001b[0m\u001b[0mW\u001b[0m\u001b[1;33m,\u001b[0m \u001b[0mlmbda\u001b[0m\u001b[1;33m,\u001b[0m \u001b[0mds\u001b[0m\u001b[1;33m,\u001b[0m \u001b[0mdz\u001b[0m\u001b[1;33m)\u001b[0m\u001b[1;33m\u001b[0m\u001b[1;33m\u001b[0m\u001b[0m\n\u001b[0m\u001b[0;32m   2520\u001b[0m \u001b[1;33m\u001b[0m\u001b[0m\n\u001b[0;32m   2521\u001b[0m \u001b[1;33m\u001b[0m\u001b[0m\n",
      "\u001b[1;32m~\\AppData\\Roaming\\Python\\Python37\\site-packages\\cvxopt\\misc.py\u001b[0m in \u001b[0;36mupdate_scaling\u001b[1;34m(W, lmbda, s, z)\u001b[0m\n\u001b[0;32m    448\u001b[0m     \u001b[0mml\u001b[0m \u001b[1;33m=\u001b[0m \u001b[0mlen\u001b[0m\u001b[1;33m(\u001b[0m\u001b[0mW\u001b[0m\u001b[1;33m[\u001b[0m\u001b[1;34m'd'\u001b[0m\u001b[1;33m]\u001b[0m\u001b[1;33m)\u001b[0m\u001b[1;33m\u001b[0m\u001b[1;33m\u001b[0m\u001b[0m\n\u001b[0;32m    449\u001b[0m     \u001b[0mm\u001b[0m \u001b[1;33m=\u001b[0m \u001b[0mmnl\u001b[0m \u001b[1;33m+\u001b[0m \u001b[0mml\u001b[0m\u001b[1;33m\u001b[0m\u001b[1;33m\u001b[0m\u001b[0m\n\u001b[1;32m--> 450\u001b[1;33m     \u001b[0ms\u001b[0m\u001b[1;33m[\u001b[0m\u001b[1;33m:\u001b[0m\u001b[0mm\u001b[0m\u001b[1;33m]\u001b[0m \u001b[1;33m=\u001b[0m \u001b[0mbase\u001b[0m\u001b[1;33m.\u001b[0m\u001b[0msqrt\u001b[0m\u001b[1;33m(\u001b[0m \u001b[0ms\u001b[0m\u001b[1;33m[\u001b[0m\u001b[1;33m:\u001b[0m\u001b[0mm\u001b[0m\u001b[1;33m]\u001b[0m \u001b[1;33m)\u001b[0m\u001b[1;33m\u001b[0m\u001b[1;33m\u001b[0m\u001b[0m\n\u001b[0m\u001b[0;32m    451\u001b[0m     \u001b[0mz\u001b[0m\u001b[1;33m[\u001b[0m\u001b[1;33m:\u001b[0m\u001b[0mm\u001b[0m\u001b[1;33m]\u001b[0m \u001b[1;33m=\u001b[0m \u001b[0mbase\u001b[0m\u001b[1;33m.\u001b[0m\u001b[0msqrt\u001b[0m\u001b[1;33m(\u001b[0m \u001b[0mz\u001b[0m\u001b[1;33m[\u001b[0m\u001b[1;33m:\u001b[0m\u001b[0mm\u001b[0m\u001b[1;33m]\u001b[0m \u001b[1;33m)\u001b[0m\u001b[1;33m\u001b[0m\u001b[1;33m\u001b[0m\u001b[0m\n\u001b[0;32m    452\u001b[0m \u001b[1;33m\u001b[0m\u001b[0m\n",
      "\u001b[1;31mValueError\u001b[0m: domain error"
     ]
    }
   ],
   "source": [
    "class SVM:\n",
    "    def fit(self, X, y):\n",
    "        n_samples, n_features = X.shape\n",
    "# P = X^T X\n",
    "        K = np.zeros((n_samples, n_samples))\n",
    "        for i in range(n_samples):\n",
    "            for j in range(n_samples):\n",
    "                K[i,j] = np.dot(X[i], X[j])\n",
    "                \n",
    "    P = cvxopt.matrix(np.outer(y, y) * K)\n",
    "# q = -1 (1xN)\n",
    "    q = cvxopt.matrix(np.ones(n_samples) * -1)\n",
    "# A = y^T \n",
    "    A = cvxopt.matrix(y, (1, n_samples))\n",
    "# b = 0 \n",
    "    b = cvxopt.matrix(0.0)\n",
    "# -1 (NxN)\n",
    "    G = cvxopt.matrix(np.diag(np.ones(n_samples) * -1))\n",
    "# 0 (1xN)\n",
    "    h = cvxopt.matrix(np.zeros(n_samples))\n",
    "    solution = cvxopt.solvers.qp(P, q, G, h, A, b)\n",
    "# Lagrange multipliers\n",
    "    a = np.ravel(solution['x'])\n",
    "# Lagrange have non zero lagrange multipliers\n",
    "    sv = a > 1e-5\n",
    "    ind = np.arange(len(a))[sv]\n",
    "    self.a = a[sv]\n",
    "    self.sv = X[sv]\n",
    "    self.sv_y = y[sv]\n",
    "# Intercept\n",
    "    self.b = 0\n",
    "    for n in range(len(self.a)):\n",
    "        self.b += self.sv_y[n]\n",
    "        self.b -= np.sum(self.a * self.sv_y * K[ind[n], sv])\n",
    "    self.b /= len(self.a)\n",
    "# Weights\n",
    "    self.w = np.zeros(n_features)\n",
    "    for n in range(len(self.a)):\n",
    "        self.w += self.a[n] * self.sv_y[n] * self.sv[n]\n",
    "\n",
    "    def project(self, X):\n",
    "        return np.dot(X, self.w) + self.b\n",
    "    \n",
    "    \n",
    "    def predict(self, X):\n",
    "        return np.sign(self.project(X))"
   ]
  },
  {
   "cell_type": "code",
   "execution_count": 7,
   "metadata": {
    "scrolled": true
   },
   "outputs": [],
   "source": [
    "X, y = make_blobs(n_samples=250, centers=2,\n",
    "                  random_state=0, cluster_std=0.60)\n",
    "y[y == 0] = -1\n",
    "tmp = np.ones(len(X))\n",
    "y = tmp * y\n"
   ]
  },
  {
   "cell_type": "code",
   "execution_count": 4,
   "metadata": {},
   "outputs": [
    {
     "data": {
      "text/plain": [
       "array([-1., -1.,  1.,  1.,  1.,  1.,  1., -1., -1.,  1., -1., -1., -1.,\n",
       "       -1.,  1.,  1., -1., -1., -1.,  1.,  1.,  1., -1., -1., -1.,  1.,\n",
       "       -1., -1.,  1.,  1., -1.,  1.,  1.,  1., -1., -1., -1.,  1., -1.,\n",
       "       -1., -1., -1.,  1., -1.,  1.,  1., -1.,  1., -1., -1., -1., -1.,\n",
       "        1.,  1., -1.,  1., -1., -1., -1.,  1.,  1., -1.,  1., -1., -1.,\n",
       "       -1.,  1.,  1., -1.,  1., -1.,  1.,  1.,  1.,  1.,  1., -1., -1.,\n",
       "       -1., -1.,  1.,  1.,  1., -1.,  1., -1., -1.,  1.,  1., -1., -1.,\n",
       "       -1.,  1.,  1., -1., -1.,  1., -1., -1.,  1.,  1., -1., -1.,  1.,\n",
       "        1.,  1., -1.,  1., -1., -1.,  1.,  1.,  1., -1., -1., -1.,  1.,\n",
       "       -1., -1., -1.,  1.,  1.,  1., -1., -1.,  1., -1., -1., -1., -1.,\n",
       "        1.,  1.,  1., -1., -1., -1.,  1., -1.,  1., -1., -1.,  1., -1.,\n",
       "        1., -1.,  1.,  1.,  1.,  1.,  1.,  1.,  1., -1., -1.,  1.,  1.,\n",
       "       -1.,  1., -1.,  1.,  1., -1.,  1.,  1.,  1., -1., -1., -1.,  1.,\n",
       "        1.,  1., -1., -1.,  1.,  1.,  1.,  1., -1.,  1.,  1.,  1., -1.,\n",
       "        1.,  1., -1., -1., -1., -1.,  1., -1.,  1.,  1., -1.,  1.,  1.,\n",
       "        1., -1.,  1., -1., -1., -1.,  1.,  1., -1., -1.,  1., -1.,  1.,\n",
       "       -1.,  1.,  1.,  1., -1., -1.,  1., -1., -1., -1., -1., -1., -1.,\n",
       "       -1., -1.,  1., -1.,  1.,  1., -1.,  1., -1.,  1., -1.,  1., -1.,\n",
       "        1., -1.,  1.,  1.,  1., -1.,  1.,  1., -1.,  1.,  1., -1., -1.,\n",
       "        1.,  1.,  1.])"
      ]
     },
     "execution_count": 4,
     "metadata": {},
     "output_type": "execute_result"
    }
   ],
   "source": [
    "y"
   ]
  },
  {
   "cell_type": "code",
   "execution_count": null,
   "metadata": {},
   "outputs": [],
   "source": []
  }
 ],
 "metadata": {
  "kernelspec": {
   "display_name": "Python 3",
   "language": "python",
   "name": "python3"
  },
  "language_info": {
   "codemirror_mode": {
    "name": "ipython",
    "version": 3
   },
   "file_extension": ".py",
   "mimetype": "text/x-python",
   "name": "python",
   "nbconvert_exporter": "python",
   "pygments_lexer": "ipython3",
   "version": "3.7.4"
  }
 },
 "nbformat": 4,
 "nbformat_minor": 2
}
