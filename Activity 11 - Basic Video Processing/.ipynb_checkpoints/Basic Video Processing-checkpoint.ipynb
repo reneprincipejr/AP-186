{
 "cells": [
  {
   "cell_type": "code",
   "execution_count": null,
   "metadata": {
    "ExecuteTime": {
     "start_time": "2019-10-15T05:56:27.775Z"
    }
   },
   "outputs": [],
   "source": [
    "import numpy as np\n",
    "import matplotlib.pyplot as plt\n",
    "import cv2\n",
    "from matplotlib import patches as patch\n",
    "\n",
    "from skimage import measure"
   ]
  },
  {
   "cell_type": "code",
   "execution_count": null,
   "metadata": {
    "ExecuteTime": {
     "start_time": "2019-10-15T05:56:29.193Z"
    }
   },
   "outputs": [],
   "source": [
    "ball = cv2.imread(\"ball.jpg\")"
   ]
  },
  {
   "cell_type": "code",
   "execution_count": null,
   "metadata": {
    "ExecuteTime": {
     "start_time": "2019-10-15T05:56:32.728Z"
    }
   },
   "outputs": [],
   "source": [
    "def Non_Parametric_Segmentation(img,ROI,BINS):\n",
    "    #r = cv2.selectROI(img)\n",
    "    #ROI = img[int(r[1]):int(r[1]+r[3]), int(r[0]):int(r[0]+r[2])]\n",
    "\n",
    "    img = img/255\n",
    "    ROI = ROI/255\n",
    "\n",
    "    R = img[:,:,0]\n",
    "    G = img[:,:,1]\n",
    "    B = img[:,:,2]\n",
    "\n",
    "    I = R+G+B\n",
    "\n",
    "    I[I==0] = 10\n",
    "\n",
    "    r = R/I\n",
    "    g = G/I\n",
    "\n",
    "    ROI_R = ROI[:,:,0]\n",
    "    ROI_G = ROI[:,:,1]\n",
    "    ROI_B = ROI[:,:,2]\n",
    "\n",
    "    ROI_I = ROI_R+ROI_G+ROI_B\n",
    "    ROI_r = ROI_R/ROI_I\n",
    "    ROI_g = ROI_G/ROI_I\n",
    "\n",
    "    r_roi_int = (ROI_r*(BINS-1)).astype(int)\n",
    "    g_roi_int = (ROI_g*(BINS-1)).astype(int)\n",
    "    \n",
    "    matrix, xbin, ybin = np.histogram2d(g_roi_int.flatten(), r_roi_int.flatten(), bins = BINS, range = [[0,BINS],[0,BINS]])\n",
    "    r_int, g_int = (r*(BINS-1)).astype(int), (g*(BINS-1)).astype(int)\n",
    "    \n",
    "    back_projection = np.zeros(r.shape)\n",
    "    for i in range(r.shape[0]):\n",
    "        for j in range(r.shape[1]):\n",
    "            back_projection[i,j] = matrix[g_int[i,j], r_int[i,j]]\n",
    "    \n",
    "    return back_projection"
   ]
  },
  {
   "cell_type": "code",
   "execution_count": null,
   "metadata": {
    "ExecuteTime": {
     "start_time": "2019-10-15T05:56:35.984Z"
    }
   },
   "outputs": [],
   "source": [
    "# Segmented = Non_Parametric_Segmentation(ball,15)\n",
    "# plt.figure(dpi = 150)\n",
    "# plt.imshow(Segmented)"
   ]
  },
  {
   "cell_type": "code",
   "execution_count": 20,
   "metadata": {
    "ExecuteTime": {
     "end_time": "2019-10-14T05:52:24.600888Z",
     "start_time": "2019-10-14T05:52:24.585928Z"
    }
   },
   "outputs": [],
   "source": []
  },
  {
   "cell_type": "code",
   "execution_count": 11,
   "metadata": {
    "ExecuteTime": {
     "end_time": "2019-10-15T05:52:52.295086Z",
     "start_time": "2019-10-15T05:52:51.610438Z"
    }
   },
   "outputs": [
    {
     "name": "stderr",
     "output_type": "stream",
     "text": [
      "C:\\Users\\renep\\Anaconda3\\lib\\site-packages\\skimage\\measure\\_regionprops.py:250: UserWarning: regionprops and image moments (including moments, normalized moments, central moments, and inertia tensor) of 2D images will change from xy coordinates to rc coordinates in version 0.16.\n",
      "See http://scikit-image.org/docs/0.14.x/release_notes_and_installation.html#deprecations for details on how to avoid this message.\n",
      "  warn(XY_TO_RC_DEPRECATION_MESSAGE)\n",
      "C:\\Users\\renep\\Anaconda3\\lib\\site-packages\\skimage\\measure\\_regionprops.py:260: UserWarning: regionprops and image moments (including moments, normalized moments, central moments, and inertia tensor) of 2D images will change from xy coordinates to rc coordinates in version 0.16.\n",
      "See http://scikit-image.org/docs/0.14.x/release_notes_and_installation.html#deprecations for details on how to avoid this message.\n",
      "  warn(XY_TO_RC_DEPRECATION_MESSAGE)\n"
     ]
    },
    {
     "data": {
      "image/png": "[encoded data removed]",
      "text/plain": [
       "<Figure size 1000x500 with 1 Axes>"
      ]
     },
     "metadata": {},
     "output_type": "display_data"
    }
   ],
   "source": [
    "fig = plt.figure(figsize = [10,5], dpi = 100, facecolor = 'w')\n",
    "plt.rcParams.update({'font.size' : 9})\n",
    "plt.rcParams['axes.titlesize'] = 15\n",
    "ax1 = fig.add_subplot(111)\n",
    "\n",
    "A = measure.label(Segmented, neighbors=4)\n",
    "\n",
    "CX = []\n",
    "CY = []\n",
    "AREA = []\n",
    "MAJOR_AXIS = []\n",
    "MINOR_AXIS = []\n",
    "ECCENTRICITY = []\n",
    "PERIMETER = []\n",
    "for region in measure.regionprops(A):\n",
    "    if 100000 > region.area > 50000:\n",
    "        y, x = region.centroid\n",
    "        CX.append(x)\n",
    "        CY.append(y)\n",
    "        \n",
    "        AREA.append(region.area)\n",
    "        ax1.imshow(Segmented, cmap = 'gray')\n",
    "        ax1.plot(x,y, 'ro')  \n",
    "        major, minor = region.major_axis_length, region.minor_axis_length\n",
    "        MAJOR_AXIS.append(major)\n",
    "        MINOR_AXIS.append(minor)\n",
    "        ECCENTRICITY.append(np.sqrt(major**2 - minor**2)/major)\n",
    "        PERIMETER.append(2*np.pi*np.sqrt((major**2 + minor**2)/2))\n",
    "        th = np.degrees(region.orientation)\n",
    "        ellipse = patch.Ellipse((x, y), major, minor, th,\n",
    "                             fill=False, ec='y', lw=5)\n",
    "        ax1.add_patch(ellipse)\n",
    "        ax1.text(x+15,y+10,[str(int(x)),str(int(y))], color = \"b\")\n"
   ]
  },
  {
   "cell_type": "code",
   "execution_count": null,
   "metadata": {
    "ExecuteTime": {
     "start_time": "2019-10-15T05:57:05.232Z"
    }
   },
   "outputs": [],
   "source": [
    "import cv2\n",
    "vidcap = cv2.VideoCapture('ball_drop.mp4')\n",
    "success,image = vidcap.read()\n",
    "count = 0\n",
    "success = True\n",
    "while success:\n",
    "    success,image = vidcap.read()\n",
    "    cv2.imwrite(\"frames/frame%d.jpg\" % count, image)     # save frame as JPEG file\n",
    "    if cv2.waitKey(10) == 27:                     # exit if Escape is hit\n",
    "        break\n",
    "    count += 1"
   ]
  },
  {
   "cell_type": "code",
   "execution_count": null,
   "metadata": {
    "ExecuteTime": {
     "start_time": "2019-10-15T05:54:56.984Z"
    }
   },
   "outputs": [],
   "source": [
    "i = 54\n",
    "img = cv2.imread(\"frames/frame\"+str(i)+\".jpg\")\n",
    "Segmented = Non_Parametric_Segmentation(img[:,:,::-1],15)\n",
    "plt.figure(dpi = 150)\n",
    "plt.imshow(Segmented)"
   ]
  },
  {
   "cell_type": "code",
   "execution_count": null,
   "metadata": {},
   "outputs": [],
   "source": []
  }
 ],
 "metadata": {
  "kernelspec": {
   "display_name": "Python 3",
   "language": "python",
   "name": "python3"
  },
  "language_info": {
   "codemirror_mode": {
    "name": "ipython",
    "version": 3
   },
   "file_extension": ".py",
   "mimetype": "text/x-python",
   "name": "python",
   "nbconvert_exporter": "python",
   "pygments_lexer": "ipython3",
   "version": "3.7.3"
  },
  "latex_envs": {
   "LaTeX_envs_menu_present": true,
   "autoclose": false,
   "autocomplete": true,
   "bibliofile": "biblio.bib",
   "cite_by": "apalike",
   "current_citInitial": 1,
   "eqLabelWithNumbers": true,
   "eqNumInitial": 1,
   "hotkeys": {
    "equation": "Ctrl-E",
    "itemize": "Ctrl-I"
   },
   "labels_anchors": false,
   "latex_user_defs": false,
   "report_style_numbering": false,
   "user_envs_cfg": false
  },
  "toc": {
   "base_numbering": 1,
   "nav_menu": {},
   "number_sections": true,
   "sideBar": true,
   "skip_h1_title": false,
   "title_cell": "Table of Contents",
   "title_sidebar": "Contents",
   "toc_cell": false,
   "toc_position": {},
   "toc_section_display": true,
   "toc_window_display": false
  },
  "varInspector": {
   "cols": {
    "lenName": 16,
    "lenType": 16,
    "lenVar": 40
   },
   "kernels_config": {
    "python": {
     "delete_cmd_postfix": "",
     "delete_cmd_prefix": "del ",
     "library": "var_list.py",
     "varRefreshCmd": "print(var_dic_list())"
    },
    "r": {
     "delete_cmd_postfix": ") ",
     "delete_cmd_prefix": "rm(",
     "library": "var_list.r",
     "varRefreshCmd": "cat(var_dic_list()) "
    }
   },
   "types_to_exclude": [
    "module",
    "function",
    "builtin_function_or_method",
    "instance",
    "_Feature"
   ],
   "window_display": false
  }
 },
 "nbformat": 4,
 "nbformat_minor": 2
}
