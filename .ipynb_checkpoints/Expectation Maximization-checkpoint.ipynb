{
 "cells": [
  {
   "cell_type": "code",
   "execution_count": null,
   "metadata": {},
   "outputs": [],
   "source": [
    "import numpy as np\n",
    "import matplotlib.pyplot as plt\n",
    "import os\n",
    "import cv2\n",
    "from skimage.color import rgb2lab, lab2rgb\n",
    "from matplotlib import patches as patch\n",
    "from skimage import measure\n",
    "from mpl_toolkits.mplot3d import Axes3D\n",
    "import math\n",
    "import tqdm"
   ]
  },
  {
   "cell_type": "code",
   "execution_count": null,
   "metadata": {},
   "outputs": [],
   "source": [
    "def objects(path):\n",
    "    object  = os.listdir(path)\n",
    "    return object\n",
    "\n",
    "name = objects(path = \"./Banana/\")\n",
    "\n",
    "def dataset_loader(datatype, imagetype):\n",
    "    def loadImages(path = \"./Banana/\" +str(datatype)+\"/\"):\n",
    "\n",
    "        return[os.path.join(path,f) for f in os.listdir(path) if f.endswith(imagetype)]\n",
    "\n",
    "    filenames = loadImages()\n",
    "    images = []\n",
    "    for file in filenames:\n",
    "        image = cv2.imread(file)\n",
    "        image = cv2.resize(image, (100,100))\n",
    "        images.append((image[:,:,::-1])/255)\n",
    "\n",
    "    return images"
   ]
  }
 ],
 "metadata": {
  "kernelspec": {
   "display_name": "Python 3",
   "language": "python",
   "name": "python3"
  },
  "language_info": {
   "codemirror_mode": {
    "name": "ipython",
    "version": 3
   },
   "file_extension": ".py",
   "mimetype": "text/x-python",
   "name": "python",
   "nbconvert_exporter": "python",
   "pygments_lexer": "ipython3",
   "version": "3.7.4"
  }
 },
 "nbformat": 4,
 "nbformat_minor": 2
}
